{
 "cells": [
  {
   "cell_type": "code",
   "execution_count": null,
   "id": "449cc9d2-34b6-46d1-8dfc-a1b4eb669a66",
   "metadata": {},
   "outputs": [],
   "source": [
    "import firebase_admin\n",
    "from firebase_admin import credentials\n",
    "from firebase_admin import db\n",
    "import Adafruit_DHT\n",
    "import time\n",
    "\n",
    "\n",
    "cred = credentials.Certificate(\"/Users/pradhammummaleti/Desktop/jupyter/credentials.json\")\n",
    "firebase_admin.initialize_app(cred, {\n",
    "    'databaseURL': 'https://raspberrypi-7ef29-default-rtdb.firebaseio.com/'\n",
    "})\n",
    "\n",
    "ref = db.reference('/') \n",
    "\n",
    "sensor = Adafruit_DHT.DHT11\n",
    "pin = 21\n",
    "\n",
    "while True:\n",
    "    humidity, temperature = Adafruit_DHT.read_retry(sensor, pin)\n",
    "    if humidity is not None and temperature is not None:\n",
    "        print('Temp={0:0.1f}*C  Humidity={1:0.1f}%'.format(temperature, humidity))\n",
    "        data = {\"Temperature\": temperature, \"Humidity\": humidity}\n",
    "        new_data_ref = ref.push(data)  \n",
    "        print(\"Sent to Firebase\")\n",
    "    else:\n",
    "        print('Failed to get reading. Try again!')\n",
    "    time.sleep(1)\n",
    "\n",
    "\n",
    "#firebase_admin.delete_app(firebase_admin.get_app())\n"
   ]
  }
 ],
 "metadata": {
  "kernelspec": {
   "display_name": "Python 3 (ipykernel)",
   "language": "python",
   "name": "python3"
  },
  "language_info": {
   "codemirror_mode": {
    "name": "ipython",
    "version": 3
   },
   "file_extension": ".py",
   "mimetype": "text/x-python",
   "name": "python",
   "nbconvert_exporter": "python",
   "pygments_lexer": "ipython3",
   "version": "3.9.0"
  }
 },
 "nbformat": 4,
 "nbformat_minor": 5
}
